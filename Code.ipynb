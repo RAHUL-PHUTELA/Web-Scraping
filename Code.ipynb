{
 "cells": [
  {
   "cell_type": "code",
   "execution_count": 121,
   "metadata": {},
   "outputs": [],
   "source": [
    "## Import all important libraries\n",
    "from selenium import webdriver\n",
    "from selenium.webdriver.common.action_chains import ActionChains\n",
    "from selenium.webdriver.common.keys import Keys\n",
    "from selenium.webdriver.support import expected_conditions as EC \n",
    "from selenium.webdriver.support.wait import WebDriverWait\n",
    "from bs4 import BeautifulSoup\n",
    "import matplotlib.pyplot as plt \n",
    "from string import ascii_uppercase\n",
    "from collections import Counter\n",
    "import pandas as pd\n",
    "import re"
   ]
  },
  {
   "cell_type": "code",
   "execution_count": 122,
   "metadata": {},
   "outputs": [],
   "source": [
    "def hover(browser, xpath):\n",
    "    element_to_hover_over = browser.find_element_by_xpath(xpath)\n",
    "    hover = ActionChains(browser).move_to_element(element_to_hover_over)\n",
    "    hover.perform()\n",
    "def getCredentials(path):\n",
    "    f = open(path, \"r\")\n",
    "    return(str.split(f.read(),\"\\n\"))\n",
    "def makeChromeSession(url):\n",
    "    driver = webdriver.Chrome(\"D:\\Basic Software\\chromedriver_win32/chromedriver.exe\")\n",
    "    driver.get(url)\n",
    "    return(driver)\n",
    "def putStringUsingId(driver,id,txt):\n",
    "    element = WebDriverWait(driver, 50).until(lambda x: x.find_element_by_id(id))\n",
    "    element.send_keys(txt)\n",
    "def clickElementByXpath(driver,St,Num=0):\n",
    "    element = WebDriverWait(driver, 50).until(lambda x: x.find_elements_by_xpath(St))\n",
    "    driver.implicitly_wait(4)\n",
    "    element[Num].click()\n",
    "def convertSeleniumPageToBeautifulSoup(driver,parser):\n",
    "    return(BeautifulSoup(driver.page_source, parser))\n",
    "def detailedQuestionInformation(DetailedResult_Page):\n",
    "    index = 1\n",
    "    allQuestions = {}\n",
    "    for i in DetailedResult_Page.findAll(\"div\",{\"class\":\"col600\"}):\n",
    "        questionDetails = {}\n",
    "#         Print Question\n",
    "#         print(i.div.text)\n",
    "        questionDetails['Question'] = i.div.text\n",
    "        correctAnswer = i.findAll(\"p\")[0].text.split('Selected answer:')[0].split(\":\")[1].strip().split(\" \")\n",
    "        selectedAnswer = i.findAll(\"p\")[0].text.split('Selected answer:')[1].strip().split(\" \")\n",
    "#         print(\"Selected Answer\")\n",
    "#         print(selectedAnswer)\n",
    "        correctAnswerlst = []\n",
    "        selectedAnswerlst = []\n",
    "        questionDetails['correctAnswer'] = correctAnswerlst\n",
    "        questionDetails['selectedAnswer'] = selectedAnswerlst\n",
    "        options = {}\n",
    "        if len(i.div['class']) == 3:\n",
    "            allOptions = i.findAll(\"div\",{\"class\":re.compile(\"saans editor\")})\n",
    "            for j in range(0,len(allOptions)):\n",
    "                options[ascii_uppercase[j]+\")\"] = allOptions[j].text\n",
    "        elif len(i.div['class']) == 4:\n",
    "            allOptions = i.findAll(\"div\",{\"class\":re.compile(\"saans bbcode\")})\n",
    "            for j in range(0,len(allOptions)):\n",
    "                options[ascii_uppercase[j]+\")\"] = allOptions[j].text\n",
    "        ## Print options\n",
    "    #     print(options)\n",
    "        questionDetails['options'] = options\n",
    "        for j in correctAnswer:\n",
    "            correctAnswerlst.append(options[j])\n",
    "        if selectedAnswer[0] != \"No\":\n",
    "            for j in selectedAnswer:\n",
    "                selectedAnswerlst.append(options[j])\n",
    "        else:\n",
    "            selectedAnswerlst.append(\"No Answer given\")\n",
    "        allQuestions[\"Question \"+str(index)] = questionDetails\n",
    "        ## Print Answers\n",
    "    #     print(\"Correct Answer:\")\n",
    "    #     for j in correctAnswer:\n",
    "    #         print(options[j])\n",
    "    #     print(\"Selected Answer:\")\n",
    "    #     for j in selectedAnswer:\n",
    "    #         print(options[j])\n",
    "        index = index +1\n",
    "    return(allQuestions)"
   ]
  },
  {
   "cell_type": "code",
   "execution_count": 124,
   "metadata": {
    "scrolled": true
   },
   "outputs": [
    {
     "name": "stdout",
     "output_type": "stream",
     "text": [
      "Test Found: 1187350\n",
      "Number of Examinee: 78\n",
      "Results have been made Successfully\n"
     ]
    }
   ],
   "source": [
    "## Intializing Variables\n",
    "EvaluationName = \"Survey form\"\n",
    "# EvaluationName = \"Git\"\n",
    "testId = ''\n",
    "numberOfExaminee = 0\n",
    "column_names = [\"Name\", \"Percentage\", \"Scored\", \"Time Taken\", \"Date\"]\n",
    "summarizedResults = pd.DataFrame(columns = column_names)\n",
    "summarizedResults = summarizedResults[0:0]\n",
    "url = 'https://www.classmarker.com'\n",
    "##\n",
    "Credentials = getCredentials(\"config/Credentials.txt\")\n",
    "driver = makeChromeSession(url)\n",
    "putStringUsingId(driver,'un',Credentials[0])\n",
    "putStringUsingId(driver,'pw',Credentials[1])\n",
    "clickElementByXpath(driver,\"//input[@name='login' and @value='Login']\")\n",
    "hover(driver,\"//*[contains(text(),'Dashboard ')]\")\n",
    "clickElementByXpath(driver,\"//*[contains(text(),'Tests') and contains(@href,'/a/tests/')]\")\n",
    "soup = convertSeleniumPageToBeautifulSoup(driver,'html.parser')\n",
    "## Fetching TestId of Test\n",
    "for i in soup.findAll(\"h4\",{\"class\":\"test-name name\"}):\n",
    "    if(i.string == EvaluationName):\n",
    "        clickElementByXpath(driver,\"//h4[contains(@class,'test-name name') and contains(text(),'\"+EvaluationName+\"')]\")\n",
    "        x = i.parent.next_sibling.next_sibling\n",
    "        testId = re.search('\\d+',x.a['href']).group(0)\n",
    "if testId == '':\n",
    "    print(\"Test Not Found\")\n",
    "else:\n",
    "    print(\"Test Found: \"+testId)\n",
    "##\n",
    "clickElementByXpath(driver,\"//a[contains(@class,'btn btn-results') and contains(@href,'\"+testId+\"')]\")\n",
    "## Waiting for Summarized Result Page\n",
    "WebDriverWait(driver, 50).until(lambda x: x.find_elements_by_xpath('''//h2[contains(@class,\"test-name name\")]'''))\n",
    "Result_Page = convertSeleniumPageToBeautifulSoup(driver,'html.parser')\n",
    "numberOfExaminee = len(Result_Page.findAll(\"p\",{\"class\":\"member-name name\"}))\n",
    "nameList = Result_Page.findAll(\"p\",{\"class\":\"member-name name\"})\n",
    "# valueList have following Info: Percentage, points, Time\n",
    "# If Test Result Found \n",
    "#    Index Value\n",
    "#    (2)   Per\n",
    "#    (3)   Score\n",
    "#    (4)   Time \n",
    "#     (2+3) for next\n",
    "#if Test Result not found\n",
    "# Only two values i.e. (-,-) (2+2)\n",
    "valueList = Result_Page.findAll(\"span\",{\"class\":\"value\"}) # Percentage, points, Time\n",
    "dateTimeList = Result_Page.findAll(\"div\",{'class':'col-span-2'}) # Return Date on index 5,7,9,11,15\n",
    "## Starting Index of valueList and dateTimeList\n",
    "valueIndex = 2\n",
    "dateIndex = 5\n",
    "print(\"Number of Examinee: \"+str(numberOfExaminee))\n",
    "allInformation = {}\n",
    "for i in range(0,numberOfExaminee):\n",
    "    if nameList[i].a is None:\n",
    "        name = nameList[i].text\n",
    "        perc = '-'\n",
    "        score = '-'\n",
    "        time = '-'\n",
    "        date = '-'\n",
    "        valueIndex = valueIndex + 2\n",
    "        dateIndex = dateIndex + 2\n",
    "        allInformation[name] = 'Test Not given'\n",
    "    else:\n",
    "        nameOfTestGiven = nameList[i].text.replace('\\n','')\n",
    "        name = nameOfTestGiven\n",
    "        perc = valueList[valueIndex].text\n",
    "        score = valueList[valueIndex + 1].text\n",
    "        time = valueList[valueIndex + 2].text\n",
    "        date = dateTimeList[dateIndex].text.replace('\\nDate','')\n",
    "        dateIndex = dateIndex + 2\n",
    "        valueIndex = valueIndex + 3\n",
    "        clickElementByXpath(driver,\"//a[contains(@class,'trigger-results-array graylink') and contains(text(),'\"+nameOfTestGiven+\"')]\")\n",
    "        WebDriverWait(driver, 50).until(lambda x: x.find_elements_by_xpath(\"//h2[contains(@class,'member-name name') and contains(text(),'\"+nameOfTestGiven+\"')]\"))\n",
    "        DetailedResult_Page = convertSeleniumPageToBeautifulSoup(driver,'html.parser')\n",
    "        allInformation[nameOfTestGiven] = detailedQuestionInformation(DetailedResult_Page)\n",
    "#     printing Details\n",
    "#     print(\"Name: \"+nameOfTestGiven)\n",
    "#     print(\"Percentage : \"+perc)\n",
    "#     print(\"Score: \"+score)\n",
    "#     print(\"Time taken: \"+time)\n",
    "#     print(\"Date : \"+date)\n",
    "    summarizedResults = summarizedResults.append({'Name': name, 'Percentage': perc, 'Scored': score, 'Time Taken': time, 'Date': date}, ignore_index=True)    \n",
    "#     break;\n",
    "if summarizedResults.shape[0]==numberOfExaminee:\n",
    "    print(\"Results have been made Successfully\")\n",
    "else:\n",
    "    print(\"Number of rows in dataframe: \"+str(summarizedResults.shape[0]))\n",
    "    print(\"Number of rows in website: \"+str(numberOfExaminee))\n",
    "    print(\"Please check\")"
   ]
  },
  {
   "cell_type": "code",
   "execution_count": 125,
   "metadata": {},
   "outputs": [
    {
     "name": "stdout",
     "output_type": "stream",
     "text": [
      "Number of Questions: 8\n"
     ]
    }
   ],
   "source": [
    "## Code to compute Reults Questionwise if Question is fixed for Test\n",
    "noOfQuestions = len(allInformation[nameOfTestGiven].keys())\n",
    "print(\"Number of Questions: \"+str(noOfQuestions))\n",
    "questionWiseResult = {}\n",
    "for k in range(1,noOfQuestions+1):\n",
    "    st = 'Question '+str(k)\n",
    "    values = {}\n",
    "    question = allInformation[nameOfTestGiven][st]['Question']\n",
    "    for i in allInformation:\n",
    "        if allInformation[i] != 'Test Not given':\n",
    "            values[i] = allInformation[i][st]['selectedAnswer'][0]\n",
    "        else:\n",
    "            values[i] = 'Test Not given'\n",
    "    questionAndResult = {}\n",
    "    questionAndResult['Question'] = question\n",
    "    questionAndResult['Result'] = values\n",
    "    questionWiseResult[st] = questionAndResult\n",
    "# print(\"Question Result\")\n",
    "# print(questionWiseResult)"
   ]
  },
  {
   "cell_type": "code",
   "execution_count": 126,
   "metadata": {},
   "outputs": [
    {
     "name": "stdout",
     "output_type": "stream",
     "text": [
      "What should be the frequency of in-house party/ celebration for entire HIG?\n"
     ]
    },
    {
     "data": {
      "image/png": "[encoded data removed]",
      "text/plain": [
       "<Figure size 432x288 with 1 Axes>"
      ]
     },
     "metadata": {
      "needs_background": "light"
     },
     "output_type": "display_data"
    },
    {
     "name": "stdout",
     "output_type": "stream",
     "text": [
      "Note:You can select multiple options\n",
      "\n",
      "What are your food preferences?\n"
     ]
    },
    {
     "data": {
      "image/png": "[encoded data removed]",
      "text/plain": [
       "<Figure size 432x288 with 1 Axes>"
      ]
     },
     "metadata": {
      "needs_background": "light"
     },
     "output_type": "display_data"
    },
    {
     "name": "stdout",
     "output_type": "stream",
     "text": [
      "What are your food preferences?\n"
     ]
    },
    {
     "data": {
      "image/png": "[encoded data removed]",
      "text/plain": [
       "<Figure size 432x288 with 1 Axes>"
      ]
     },
     "metadata": {
      "needs_background": "light"
     },
     "output_type": "display_data"
    },
    {
     "name": "stdout",
     "output_type": "stream",
     "text": [
      "Note:You can select multiple options\n",
      "\n",
      "You be OK to have  party/ celebrations on :\n"
     ]
    },
    {
     "data": {
      "image/png": "[encoded data removed]",
      "text/plain": [
       "<Figure size 432x288 with 1 Axes>"
      ]
     },
     "metadata": {
      "needs_background": "light"
     },
     "output_type": "display_data"
    },
    {
     "name": "stdout",
     "output_type": "stream",
     "text": [
      "Note:You can select multiple options\n",
      "\n",
      "\n",
      "Your preference on party/ celebrations ?\n"
     ]
    },
    {
     "data": {
      "image/png": "[encoded data removed]",
      "text/plain": [
       "<Figure size 432x288 with 1 Axes>"
      ]
     },
     "metadata": {
      "needs_background": "light"
     },
     "output_type": "display_data"
    },
    {
     "name": "stdout",
     "output_type": "stream",
     "text": [
      "Are you comfortable with dinner with DJ along with Alcohol?\n"
     ]
    },
    {
     "data": {
      "image/png": "[encoded data removed]",
      "text/plain": [
       "<Figure size 432x288 with 1 Axes>"
      ]
     },
     "metadata": {
      "needs_background": "light"
     },
     "output_type": "display_data"
    },
    {
     "name": "stdout",
     "output_type": "stream",
     "text": [
      "Do you feel you have work life balance in HIG?\n"
     ]
    },
    {
     "data": {
      "image/png": "[encoded data removed]",
      "text/plain": [
       "<Figure size 432x288 with 1 Axes>"
      ]
     },
     "metadata": {
      "needs_background": "light"
     },
     "output_type": "display_data"
    },
    {
     "name": "stdout",
     "output_type": "stream",
     "text": [
      "Do you want to be part of organizing committee?\n"
     ]
    },
    {
     "data": {
      "image/png": "[encoded data removed]",
      "text/plain": [
       "<Figure size 432x288 with 1 Axes>"
      ]
     },
     "metadata": {
      "needs_background": "light"
     },
     "output_type": "display_data"
    }
   ],
   "source": [
    "## Analyze Question Results\n",
    "for i in questionWiseResult:\n",
    "    print(questionWiseResult[i]['Question'])\n",
    "    values = questionWiseResult[i]['Result']\n",
    "    rst = Counter(values.values())\n",
    "    D = dict(rst)\n",
    "    plt.bar(range(len(D)), list(D.values()), align='center')\n",
    "    plt.xticks(range(len(D)), list(D.keys()))\n",
    "    plt.show()"
   ]
  },
  {
   "cell_type": "code",
   "execution_count": null,
   "metadata": {},
   "outputs": [],
   "source": []
  },
  {
   "cell_type": "code",
   "execution_count": null,
   "metadata": {},
   "outputs": [],
   "source": []
  },
  {
   "cell_type": "code",
   "execution_count": null,
   "metadata": {},
   "outputs": [],
   "source": []
  }
 ],
 "metadata": {
  "kernelspec": {
   "display_name": "Python 3",
   "language": "python",
   "name": "python3"
  },
  "language_info": {
   "codemirror_mode": {
    "name": "ipython",
    "version": 3
   },
   "file_extension": ".py",
   "mimetype": "text/x-python",
   "name": "python",
   "nbconvert_exporter": "python",
   "pygments_lexer": "ipython3",
   "version": "3.7.1"
  }
 },
 "nbformat": 4,
 "nbformat_minor": 2
}
